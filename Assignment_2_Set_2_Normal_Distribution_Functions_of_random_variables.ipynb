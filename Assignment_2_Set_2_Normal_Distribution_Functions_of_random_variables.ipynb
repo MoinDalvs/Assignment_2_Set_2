{
 "cells": [
  {
   "cell_type": "code",
   "execution_count": 3,
   "id": "f7d4cefa",
   "metadata": {},
   "outputs": [],
   "source": [
    "import pandas as pd\n",
    "import numpy as np\n",
    "import matplotlib.pyplot as plt\n",
    "import scipy.stats as stats\n",
    "import seaborn as sns\n",
    "import statsmodels.api as smf\n",
    "import warnings\n",
    "warnings.filterwarnings('ignore')"
   ]
  },
  {
   "cell_type": "markdown",
   "id": "a68a7931",
   "metadata": {},
   "source": [
    "# SET 2  "
   ]
  },
  {
   "cell_type": "markdown",
   "id": "7bd59482",
   "metadata": {},
   "source": [
    "### Question 1 "
   ]
  },
  {
   "cell_type": "code",
   "execution_count": 4,
   "id": "0960dfec",
   "metadata": {},
   "outputs": [
    {
     "name": "stdout",
     "output_type": "stream",
     "text": [
      "The probability that the service manager cannot meet his \n",
      "      commitment is 0.26599\n"
     ]
    }
   ],
   "source": [
    "\"\"\"the serving work will began after 10 min of drop off so 45+10 \n",
    "which will now take more than the usual time so new mew is 55 minutes \n",
    "and the porbbaility that it will take more than 1 hour to complete\"\"\"\n",
    "mew = 55\n",
    "std = 8\n",
    "q1 = stats.norm.sf(60, loc = mew, scale = std)\n",
    "print(\"\"\"The probability that the service manager cannot meet his \n",
    "      commitment is\"\"\",np.round(q1,5))"
   ]
  },
  {
   "cell_type": "markdown",
   "id": "abe4548e",
   "metadata": {},
   "source": [
    "### Question 2 "
   ]
  },
  {
   "cell_type": "code",
   "execution_count": 8,
   "id": "0a6ce3cf",
   "metadata": {},
   "outputs": [
    {
     "name": "stdout",
     "output_type": "stream",
     "text": [
      "The probability of employee age betweeen 38 and 44 is 34.13 %\n",
      "The probability of employee age more than 44 is 15.87 %\n",
      "Answer: False\n",
      "A training program for employees under the age of 30 at the center would be expected to attract about 36.0 employees\n"
     ]
    }
   ],
   "source": [
    "mean = 38\n",
    "std1 = 6\n",
    "q2_lessthan_38 = stats.norm.cdf(38, loc = mean, scale = std1)\n",
    "\n",
    "\n",
    "q2_less_than_44 = stats.norm.cdf(44, loc = mean,  scale = std1)\n",
    "\n",
    "\n",
    "q2_betweeen_38_and_44 = (q2_less_than_44 - q2_lessthan_38)\n",
    "print('The probability of employee age betweeen 38 and 44 is',np.round(q2_betweeen_38_and_44*100,2),'%') \n",
    "\n",
    "q2_morethan_44 = 1-stats.norm.cdf(44, loc = mean, scale = std1)\n",
    "print('The probability of employee age more than 44 is',np.round(q2_morethan_44*100,2),'%')\n",
    "\n",
    "true_or_false = (q2_morethan_44 > q2_betweeen_38_and_44)\n",
    "print('Answer:',true_or_false)\n",
    "\n",
    "q2b = stats.norm.cdf(30, loc = mean, scale = std1)\n",
    "print(\"\"\"A training program for employees under the age of 30 at the center would be expected to attract about\"\"\"\n",
    "      ,np.round((q2b*400),0),'employees')"
   ]
  },
  {
   "cell_type": "markdown",
   "id": "3ae415d6",
   "metadata": {},
   "source": [
    "### Question 4"
   ]
  },
  {
   "cell_type": "markdown",
   "id": "ad4c2ea0",
   "metadata": {},
   "source": [
    "<b>Let X ~ N(100, 202). Find two values, a and b, symmetric \n",
    "        about the mean, such that the probability of the random variable \n",
    "        taking a value between them is 0.99.</b>\n",
    "+ A.90.5, 105.9 \n",
    "+ B.80.2, 119.8\n",
    "+ C.22, 78 \n",
    "+ D.48.5, 151.5\n",
    "+ E.90.1, 109.9"
   ]
  },
  {
   "cell_type": "code",
   "execution_count": 13,
   "id": "76f34cbb",
   "metadata": {},
   "outputs": [
    {
     "name": "stdout",
     "output_type": "stream",
     "text": [
      "The two values of a and b, symmetric about the mean, \n",
      "      are such that the probability of the random variable \n",
      "      taking a value between them is 0.99: 48.5 151.5\n"
     ]
    }
   ],
   "source": [
    "# Given\n",
    "mew = 100\n",
    "std = 20\n",
    "# p(a<x<b)\n",
    "#To Find = \n",
    "\"\"\" two values, a and b, symmetric about the mean, such that the \n",
    "probability of the random variable taking a value between them is 0.99\"\"\" \n",
    "# Solution\n",
    "\"\"\" From the above details,we have to exclude .005% area from each\n",
    "left and right tails. Hence, we want to find the .005th and the \n",
    ".995th percentiles Z score values\"\"\"\n",
    "\n",
    "# Z value for .005 percentiles \n",
    "z_005_ = np.round(stats.norm.ppf(0.005),4)\n",
    "z_005_\n",
    "\n",
    "# Z value for .99 percentiles \n",
    "z_99_ = np.round(stats.norm.ppf(0.995),4)\n",
    "z_99_\n",
    "\n",
    "#z = (x_bar - mew) / std\n",
    "#x_bar = (z*std) + mew\n",
    "a = np.round((z_005_*std) + mew,1)\n",
    "b = np.round((z_99_*std) + mew,1)\n",
    "print(\"\"\"The two values of a and b, symmetric about the mean, \n",
    "      are such that the probability of the random variable \n",
    "      taking a value between them is 0.99:\"\"\",a,b)"
   ]
  },
  {
   "cell_type": "markdown",
   "id": "2c2f074e",
   "metadata": {},
   "source": [
    "# Or Simply"
   ]
  },
  {
   "cell_type": "code",
   "execution_count": 12,
   "id": "6f2330cd",
   "metadata": {},
   "outputs": [
    {
     "name": "stdout",
     "output_type": "stream",
     "text": [
      "The two values of a and b, symmetric about the mean, \n",
      "      are such that the probability of the random variable \n",
      "      taking a value between them is 0.99: [ 48.5 151.5]\n"
     ]
    }
   ],
   "source": [
    "print(\"\"\"The two values of a and b, symmetric about the mean, \n",
    "      are such that the probability of the random variable \n",
    "      taking a value between them is 0.99:\"\"\",np.round(stats.norm.interval(0.99, loc = 100, scale = 20),1))"
   ]
  },
  {
   "cell_type": "markdown",
   "id": "92596971",
   "metadata": {},
   "source": [
    "### Question 5 \n",
    "\n"
   ]
  },
  {
   "cell_type": "markdown",
   "id": "812b44d2",
   "metadata": {},
   "source": [
    "5.Consider a company that has two different divisions. The annual profits from the two divisions are independent and have distributions Profit1 ~ N(5, 32) and Profit2 ~ N(7, 42) respectively. Both the profits are in USD Million. Answer the following questions about the total profit of the company in Rupees. Assume that 1USD = Rs. 45\n",
    "\n"
   ]
  },
  {
   "cell_type": "code",
   "execution_count": 15,
   "id": "bc2d5e1d",
   "metadata": {},
   "outputs": [
    {
     "name": "stdout",
     "output_type": "stream",
     "text": [
      "The Mean Profit of both division: 12 Million$\n",
      "The Mean Profit of both division: 54.0 Crore Rupees\n",
      "The Standard Deviation of both division: 5.0 Million$\n",
      "The Standard Deviation of both division: 22.5 Crore Rupees\n"
     ]
    }
   ],
   "source": [
    "# Combine Mean Profit of both division for Company= mean1 + mean2\n",
    "mean1 = 5\n",
    "mean2 = 7\n",
    "Mean = (mean1+mean2) # 1 USD = 45 rupees\n",
    "print('The Mean Profit of both division:',Mean, 'Million$')\n",
    "print('The Mean Profit of both division:',(Mean*45)/10, 'Crore Rupees')\n",
    "\n",
    "# Combine standard Deviation = (Std1^2 + Std2^2)^1/2\n",
    "std1 = 3**2\n",
    "std2 = 4**2\n",
    "Std = np.sqrt(std1 + std2)\n",
    "print('The Standard Deviation of both division:', Std, 'Million$')\n",
    "print('The Standard Deviation of both division:', (Std*45)/10, 'Crore Rupees')"
   ]
  },
  {
   "cell_type": "markdown",
   "id": "7b82707f",
   "metadata": {},
   "source": [
    " A. Specify a Rupee range (centered on the mean) such that it contains 95% probability for the annual profit of the company.\n"
   ]
  },
  {
   "cell_type": "code",
   "execution_count": 16,
   "id": "8bf69d75",
   "metadata": {},
   "outputs": [
    {
     "name": "stdout",
     "output_type": "stream",
     "text": [
      "Rupee Ranges from 2.2 to 21.8 Million$ in Annual profit of the Company 95% of the time\n",
      "Rupee Ranges from 9.900000000000002 to 98.1 Crore Rupees in Annual profit of the Company 95% of the time\n"
     ]
    }
   ],
   "source": [
    "r1, r2 = np.round(stats.norm.interval(0.95, Mean, Std),2)\n",
    "print('Rupee Ranges from',r1,'to',r2,'Million$ in Annual profit of the Company 95% of the time')\n",
    "print('Rupee Ranges from',np.divide(np.multiply(r1,45),10),'to',np.divide(np.multiply(r2,45),10),'Crore Rupees in Annual profit of the Company 95% of the time')"
   ]
  },
  {
   "cell_type": "markdown",
   "id": "7d74c648",
   "metadata": {},
   "source": [
    "B.\tSpecify the 5th percentile of profit (in Rupees) for the company\n"
   ]
  },
  {
   "cell_type": "code",
   "execution_count": 18,
   "id": "c7606188",
   "metadata": {},
   "outputs": [
    {
     "name": "stdout",
     "output_type": "stream",
     "text": [
      "The 5th percentile of Profit for the company is 3.78 Million$\n",
      "The 5th percentile of Profit for the company is 17.0 Crore Rupees\n"
     ]
    }
   ],
   "source": [
    "# Z value  = X_bar - Mew / Std pop \n",
    "# for percentile, X_percentile = (Zvalue * Std pop) + Mew\n",
    "Z_05_ = stats.norm.ppf(0.05)\n",
    "Fifth_percentile = (Z_05_ * Std) + Mean\n",
    "print('The 5th percentile of Profit for the company is',np.round(Fifth_percentile,2),'Million$')\n",
    "print('The 5th percentile of Profit for the company is',np.round((Fifth_percentile*45)/10,),'Crore Rupees')"
   ]
  },
  {
   "cell_type": "markdown",
   "id": "fc6004e6",
   "metadata": {},
   "source": [
    "C.\tWhich of the two divisions has a larger probability of making a loss in a given year?\n",
    "\n"
   ]
  },
  {
   "cell_type": "code",
   "execution_count": 19,
   "id": "2175c1a2",
   "metadata": {},
   "outputs": [
    {
     "name": "stdout",
     "output_type": "stream",
     "text": [
      "The Probability of Division #1 making a loss is 4.78 %\n",
      "The Probability of Division #2 making a loss is 4.01 %\n",
      "The Division 1 has a larger Probability of making a loss\n"
     ]
    }
   ],
   "source": [
    "# The probability of Division #1 making a loss\n",
    "print('The Probability of Division #1 making a loss is',np.round((stats.norm.cdf(0,5,3))*100,2),'%')\n",
    "\n",
    "# The probability of Division #2 making a loss\n",
    "print('The Probability of Division #2 making a loss is',np.round((stats.norm.cdf(0,7,4))*100,2),'%')\n",
    "\n",
    "Division_1 = (stats.norm.cdf(0,5,3))*100\n",
    "Division_2 = (stats.norm.cdf(0,7,4))*100\n",
    "\n",
    "if Division_1>Division_2:\n",
    "    print('The Division 1 has a larger Probability of making a loss')\n",
    "else:\n",
    "          print('The Division 2 has a larger Porbability of making a loss')"
   ]
  },
  {
   "cell_type": "code",
   "execution_count": null,
   "id": "c9ade74b",
   "metadata": {},
   "outputs": [],
   "source": []
  },
  {
   "cell_type": "code",
   "execution_count": null,
   "id": "46c2164f",
   "metadata": {},
   "outputs": [],
   "source": []
  },
  {
   "cell_type": "code",
   "execution_count": null,
   "id": "e18bd1c5",
   "metadata": {},
   "outputs": [],
   "source": []
  },
  {
   "cell_type": "code",
   "execution_count": null,
   "id": "40a78a5f",
   "metadata": {},
   "outputs": [],
   "source": []
  },
  {
   "cell_type": "code",
   "execution_count": null,
   "id": "86ff71fe",
   "metadata": {},
   "outputs": [],
   "source": []
  },
  {
   "cell_type": "code",
   "execution_count": null,
   "id": "5d7b40d9",
   "metadata": {},
   "outputs": [],
   "source": []
  },
  {
   "cell_type": "code",
   "execution_count": null,
   "id": "5b11c74f",
   "metadata": {},
   "outputs": [],
   "source": []
  },
  {
   "cell_type": "code",
   "execution_count": null,
   "id": "f8d91907",
   "metadata": {},
   "outputs": [],
   "source": []
  },
  {
   "cell_type": "code",
   "execution_count": null,
   "id": "c13cfebd",
   "metadata": {},
   "outputs": [],
   "source": []
  }
 ],
 "metadata": {
  "kernelspec": {
   "display_name": "Python 3 (ipykernel)",
   "language": "python",
   "name": "python3"
  },
  "language_info": {
   "codemirror_mode": {
    "name": "ipython",
    "version": 3
   },
   "file_extension": ".py",
   "mimetype": "text/x-python",
   "name": "python",
   "nbconvert_exporter": "python",
   "pygments_lexer": "ipython3",
   "version": "3.9.7"
  }
 },
 "nbformat": 4,
 "nbformat_minor": 5
}
